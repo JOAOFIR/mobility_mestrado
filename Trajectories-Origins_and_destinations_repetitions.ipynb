{
 "cells": [
  {
   "cell_type": "markdown",
   "id": "6deac33f-6f67-4164-99a9-3cd41348f3fc",
   "metadata": {},
   "source": [
    "# Obtenção da repetição origem-destino com grids de 100m, agora com todas as áreas da parte rural de Ann Arbor"
   ]
  },
  {
   "cell_type": "code",
   "execution_count": null,
   "id": "797500dc-8297-443d-b916-f999fa6697cd",
   "metadata": {
    "tags": []
   },
   "outputs": [],
   "source": [
    "import skmob\n",
    "from skmob.utils import utils, constants\n",
    "from skmob.tessellation import tilers\n",
    "from skmob.utils.plot import plot_gdf\n",
    "\n",
    "import numpy as np\n",
    "import pandas as pd\n",
    "import geopandas as gpd\n",
    "import shapely\n",
    "import folium\n",
    "from folium.plugins import HeatMap\n",
    "import matplotlib as mpl\n",
    "import matplotlib.pyplot as plt"
   ]
  },
  {
   "cell_type": "markdown",
   "id": "5d496c54-6b87-48fb-8e1f-b271f42420ca",
   "metadata": {},
   "source": [
    "## 1) Filtrar pelo id do veículo e concatenar em um único DataFrame"
   ]
  },
  {
   "cell_type": "code",
   "execution_count": null,
   "id": "6970cc98-a799-48f9-aac1-b167f5489f64",
   "metadata": {},
   "outputs": [],
   "source": [
    "import pandas as pd\n",
    "import glob\n",
    "import numpy as np\n",
    "files = glob.glob(\"/media/joao/Seagate Expansion Drive 09032021/22122022/ved_descompactados/*.csv\")\n",
    "\n",
    "df = pd.DataFrame()\n",
    "for f in files:\n",
    "    plt = pd.read_csv(f, sep = \",\")\n",
    "    df = pd.concat([plt,df], ignore_index=False)\n",
    "    df = df.loc[(df['VehId'] == 630)]\n",
    "\n",
    "df"
   ]
  },
  {
   "cell_type": "markdown",
   "id": "fd5e7e5a-3dcc-4d11-9704-5387df3c0c25",
   "metadata": {},
   "source": [
    "## 2) Ordernar pelas colunas do trip_id pelo Timestamp"
   ]
  },
  {
   "cell_type": "code",
   "execution_count": null,
   "id": "a137df01-b0d2-4046-82cc-f5e105a6728c",
   "metadata": {
    "tags": []
   },
   "outputs": [],
   "source": [
    "df = df.sort_values(by=['Trip','Timestamp(ms)'])\n",
    "\n",
    "\n",
    "df"
   ]
  },
  {
   "cell_type": "markdown",
   "id": "962f7b56-bc1b-4234-8088-570ba90cb15f",
   "metadata": {},
   "source": [
    "## 1.1) Analisar todos os arquivos de trajetórias"
   ]
  },
  {
   "cell_type": "code",
   "execution_count": null,
   "id": "c401f39a-eddb-4926-8702-86253b6d1421",
   "metadata": {},
   "outputs": [],
   "source": [
    "df['Trip'].nunique()"
   ]
  },
  {
   "cell_type": "code",
   "execution_count": null,
   "id": "2ce75c84-9f20-4458-83a2-6ee458d3dbf2",
   "metadata": {
    "tags": []
   },
   "outputs": [],
   "source": [
    "#df['VehId'].nunique()"
   ]
  },
  {
   "cell_type": "code",
   "execution_count": null,
   "id": "9bc44d9e-f93b-4910-9c45-53b36a05fe82",
   "metadata": {},
   "outputs": [],
   "source": [
    "df['Trip'].unique()"
   ]
  },
  {
   "cell_type": "code",
   "execution_count": null,
   "id": "aa28f718-fd23-431b-a7e0-a0fe6418ebef",
   "metadata": {
    "tags": []
   },
   "outputs": [],
   "source": [
    "#df['VehId'].unique()"
   ]
  },
  {
   "cell_type": "markdown",
   "id": "9f692852-43b3-48b1-be74-fb195f668694",
   "metadata": {},
   "source": [
    "## Obs.: antes de prosseguir, determino o datetime"
   ]
  },
  {
   "cell_type": "code",
   "execution_count": null,
   "id": "c2bf778d-3d0d-4699-9459-094f967b1c9a",
   "metadata": {},
   "outputs": [],
   "source": [
    "#df = df.sort_values(by='DayNum')\n",
    "\n",
    "df['datetime'] = pd.to_datetime(df['DayNum'], unit='D', origin=pd.Timestamp('2017-11-01'))\n",
    "\n",
    "\n",
    "print(df['datetime'].min())\n",
    "\n",
    "print(df['datetime'].max())\n",
    "\n",
    "\n",
    "print(df['DayNum'].min())\n",
    "\n",
    "print(df['DayNum'].max())\n",
    "\n",
    "print(df.shape)"
   ]
  },
  {
   "cell_type": "code",
   "execution_count": null,
   "id": "285f4fe2-a1ec-49b0-b78d-f5c43ee45b9e",
   "metadata": {},
   "outputs": [],
   "source": [
    "t = pd.DataFrame()\n",
    "\n",
    "t = pd.date_range(start='2018-05-05 16:46:47.212838400', end='2018-05-05 16:46:47.212838400', periods=424)\n",
    "\n",
    "\n",
    "df['datetime'] = t\n",
    "\n",
    "df.datetime"
   ]
  },
  {
   "cell_type": "code",
   "execution_count": null,
   "id": "f2a4c517-f122-4f68-9c79-11ca64762081",
   "metadata": {},
   "outputs": [],
   "source": [
    "df['datetime'] = pd.to_datetime(df['datetime']).round('s')\n",
    "\n",
    "df.datetime"
   ]
  },
  {
   "cell_type": "markdown",
   "id": "dae22d48-c07b-4562-8a6e-1fdf88284cfd",
   "metadata": {},
   "source": [
    "## 3) Criação da malha de grids por 100m a hipotenusa"
   ]
  },
  {
   "cell_type": "code",
   "execution_count": null,
   "id": "d1766791-9f6b-4416-8041-c721eb7680d1",
   "metadata": {},
   "outputs": [],
   "source": [
    "import pandas as pd\n",
    "import geopandas as gpd\n",
    "\n",
    "#vei8 = df"
   ]
  },
  {
   "cell_type": "code",
   "execution_count": null,
   "id": "9aa856c0-2798-4f1c-8df8-cc08de8e5577",
   "metadata": {},
   "outputs": [],
   "source": [
    "from skmob.tessellation import tilers\n",
    "from skmob.preprocessing import filtering"
   ]
  },
  {
   "cell_type": "code",
   "execution_count": null,
   "id": "e1b5e896-b379-4ef9-a144-231afc4e4c9a",
   "metadata": {
    "tags": []
   },
   "outputs": [],
   "source": [
    "#import pandas as pd\n",
    "import skmob\n",
    "#import geopandas as gpd\n",
    "from skmob import preprocessing"
   ]
  },
  {
   "cell_type": "code",
   "execution_count": null,
   "id": "e7586e8e-7997-41e9-9d6f-2b9588f2c240",
   "metadata": {
    "tags": []
   },
   "outputs": [],
   "source": [
    "tessellation = gpd.read_file('limite_geral_tess.gpkg')\n",
    "\n",
    "tessellation = tessellation.to_crs('EPSG:4326')\n",
    "\n",
    "tessellation.plot()"
   ]
  },
  {
   "cell_type": "code",
   "execution_count": null,
   "id": "fe750ced-b13c-4437-befb-1cbca40ba14b",
   "metadata": {
    "tags": []
   },
   "outputs": [],
   "source": [
    "tessellation"
   ]
  },
  {
   "cell_type": "code",
   "execution_count": null,
   "id": "94b56bc7-848a-4109-966b-90304755fe34",
   "metadata": {},
   "outputs": [],
   "source": [
    "gdf = gpd.GeoDataFrame(df, crs=\"EPSG:4326\", geometry=gpd.points_from_xy(df[\"Longitude[deg]\"], df[\"Latitude[deg]\"]))\n",
    "\n",
    "gdf"
   ]
  },
  {
   "cell_type": "code",
   "execution_count": null,
   "id": "b269c0d1-1661-4872-9867-b74fc5ca202e",
   "metadata": {
    "tags": []
   },
   "outputs": [],
   "source": [
    "from skmob.tessellation import tilers\n",
    "\n",
    "tessellation = tilers.tiler.get(\"squared\", \n",
    "                                base_shape=tessellation, \n",
    "                                meters=100)\n",
    "\n",
    "tessellation"
   ]
  },
  {
   "cell_type": "code",
   "execution_count": null,
   "id": "a9d05f67-18cd-40c1-860e-ed23a2cfee11",
   "metadata": {
    "tags": []
   },
   "outputs": [],
   "source": [
    "# tessellation.to_file('tessellation100.gpkg', driver='GPKG')"
   ]
  },
  {
   "cell_type": "code",
   "execution_count": null,
   "id": "70ec1667-b24c-41ed-b988-6ae87db7244d",
   "metadata": {
    "tags": []
   },
   "outputs": [],
   "source": [
    "#tdf.columns"
   ]
  },
  {
   "cell_type": "code",
   "execution_count": null,
   "id": "9e266274-6285-45f3-8fea-4d7689a5c556",
   "metadata": {
    "tags": []
   },
   "outputs": [],
   "source": [
    "#fdf = tdf.to_flowdataframe(tessellation=tessellation, self_loops=False)\n",
    "\n",
    "#print(fdf.head())"
   ]
  },
  {
   "cell_type": "code",
   "execution_count": null,
   "id": "7fdb86ff-4cdc-433a-8afa-364804cb988f",
   "metadata": {
    "tags": []
   },
   "outputs": [],
   "source": [
    "mtdf = gdf.sjoin(tessellation, how='inner', predicate='within')\n",
    "\n",
    "mtdf"
   ]
  },
  {
   "cell_type": "markdown",
   "id": "33a0e7ea-42fc-4311-91ad-609c7cef692b",
   "metadata": {},
   "source": [
    "## 4) Posições iniciais e finais para cada Trip"
   ]
  },
  {
   "cell_type": "code",
   "execution_count": null,
   "id": "7c76689f-e0ac-49fb-8109-a9acebc0462e",
   "metadata": {},
   "outputs": [],
   "source": [
    "import movingpandas as mpd"
   ]
  },
  {
   "cell_type": "markdown",
   "id": "fc1817e8-0082-44f3-9176-cdedc318a620",
   "metadata": {},
   "source": [
    "#### Obs.: se houver apenas 1 Trip, usar Timestamp(ms) no lugar do datetime."
   ]
  },
  {
   "cell_type": "code",
   "execution_count": null,
   "id": "70862f0e-cc8c-4e87-9e83-835b11f3fa45",
   "metadata": {},
   "outputs": [],
   "source": [
    "traj = mpd.TrajectoryCollection(mtdf, traj_id_col='Trip', obj_id_col='VehId', t='datetime', x='lng', y='lat', crs='epsg:4326')\n",
    "traj"
   ]
  },
  {
   "cell_type": "code",
   "execution_count": null,
   "id": "ded9611a-c88f-433d-a4e8-55efaffa61e4",
   "metadata": {},
   "outputs": [],
   "source": [
    "# traj.plot(column='speed', legend=True, figsize=(9,5))"
   ]
  },
  {
   "cell_type": "code",
   "execution_count": null,
   "id": "118ee87b-906d-4f2b-bf18-e2d0cc712ba4",
   "metadata": {},
   "outputs": [],
   "source": [
    "start = traj.get_start_locations()\n",
    "end = traj.get_end_locations()"
   ]
  },
  {
   "cell_type": "code",
   "execution_count": null,
   "id": "a523fee9-eecd-48ef-b662-51ee1b620a1b",
   "metadata": {},
   "outputs": [],
   "source": [
    "\n",
    "start['lon'] = start.geometry.x\n",
    "start['lat'] = start.geometry.y"
   ]
  },
  {
   "cell_type": "code",
   "execution_count": null,
   "id": "37511545-6a4b-40d4-b876-9252c0bcc146",
   "metadata": {},
   "outputs": [],
   "source": [
    "\n",
    "end['lon'] = end.geometry.x\n",
    "end['lat'] = end.geometry.y"
   ]
  },
  {
   "cell_type": "code",
   "execution_count": null,
   "id": "463ed590-8dc3-4a46-bf2d-b5571146d476",
   "metadata": {},
   "outputs": [],
   "source": [
    "start.plot()"
   ]
  },
  {
   "cell_type": "code",
   "execution_count": null,
   "id": "1e605108-4fcd-4b1f-8680-703f652b1c06",
   "metadata": {
    "tags": []
   },
   "outputs": [],
   "source": [
    "end.plot()"
   ]
  },
  {
   "cell_type": "code",
   "execution_count": null,
   "id": "53f0decb-51d2-478b-9978-f27db427fdb0",
   "metadata": {
    "tags": []
   },
   "outputs": [],
   "source": [
    "start['direção'] = 'Origem'\n",
    "end['direção'] = 'Destino'\n",
    "\n"
   ]
  },
  {
   "cell_type": "markdown",
   "id": "a7cbd249-8a5a-42a7-b3fd-7138672286aa",
   "metadata": {},
   "source": [
    "## 5) Tabela com os pontos iniciais, finais e o id da trajetória"
   ]
  },
  {
   "cell_type": "code",
   "execution_count": null,
   "id": "014c365f-2fb3-4026-8929-5e23fce5bf0f",
   "metadata": {},
   "outputs": [],
   "source": [
    "pontos = start.merge(end, on='Trip')\n",
    "\n",
    "pontos"
   ]
  },
  {
   "cell_type": "markdown",
   "id": "79e9ffbb-d92e-4f51-9836-2056ecdce9cf",
   "metadata": {},
   "source": [
    "## 6) Tabela com os grids de origem e de destino"
   ]
  },
  {
   "cell_type": "code",
   "execution_count": null,
   "id": "0958b3a3-3e3c-4ab2-b479-c7f1bdb7d385",
   "metadata": {},
   "outputs": [],
   "source": [
    "pontos.columns"
   ]
  },
  {
   "cell_type": "code",
   "execution_count": null,
   "id": "466ec6fc-4aab-411d-847f-2e71712916a6",
   "metadata": {},
   "outputs": [],
   "source": [
    "#mtdf = mtdf[['uid', 'direção', 'tile_ID', 'lon', 'lat']]\n",
    "\n",
    "#mtdf.rename({'uid':'veículo_id', 'tile_ID':'grid'}, axis=1, inplace=True)\n",
    "pontos = pontos[['VehId_x', 'Trip', 'direção_x','direção_y', 'tile_ID_x','tile_ID_y','lon_x','lat_x','lon_y','lat_y']]\n",
    "\n",
    "pontos.rename({ 'direção_x':'Origens','direção_y':'Destinos', 'tile_ID_x':'grid_origem','tile_ID_y':'grid_destino'}, axis=1, inplace=True)\n"
   ]
  },
  {
   "cell_type": "markdown",
   "id": "c84743c7-cbc8-40d1-aaec-7a87da9cd3e6",
   "metadata": {},
   "source": [
    "## 7) Somatório e análise"
   ]
  },
  {
   "cell_type": "markdown",
   "id": "29cb3e83-9cc3-4dde-bb40-24ccbccae729",
   "metadata": {},
   "source": [
    "#### Primeiro, faço uma exploração por partes:"
   ]
  },
  {
   "cell_type": "code",
   "execution_count": null,
   "id": "5c4d10e4-a719-4645-ac13-e2c00eed55e7",
   "metadata": {},
   "outputs": [],
   "source": [
    "A = pd.DataFrame()\n",
    "\n",
    "A['repetições'] = pontos.groupby(['grid_origem']).size().reset_index().groupby(['grid_origem']).sum()\n",
    "\n",
    "A.shape"
   ]
  },
  {
   "cell_type": "code",
   "execution_count": null,
   "id": "573c0b5b-a5ab-4a8f-8c14-3956ba77fbc5",
   "metadata": {
    "tags": []
   },
   "outputs": [],
   "source": [
    "B = pd.DataFrame()\n",
    "\n",
    "B['repetições'] = pontos.groupby(['grid_destino']).size().reset_index().groupby(['grid_destino']).sum()\n",
    "\n",
    "B.shape"
   ]
  },
  {
   "cell_type": "code",
   "execution_count": null,
   "id": "34df71c4-97c4-4723-93d2-e8b439907b32",
   "metadata": {},
   "outputs": [],
   "source": [
    "A.reset_index()"
   ]
  },
  {
   "cell_type": "code",
   "execution_count": null,
   "id": "da96288b-0e90-42a1-acab-90cc3df4b39d",
   "metadata": {},
   "outputs": [],
   "source": [
    "A['repetições'].sum()"
   ]
  },
  {
   "cell_type": "code",
   "execution_count": null,
   "id": "d2d19dbb-0eda-44c9-b035-9474417a89d3",
   "metadata": {},
   "outputs": [],
   "source": [
    "A['repetições'].max()"
   ]
  },
  {
   "cell_type": "code",
   "execution_count": null,
   "id": "ecd20b56-32ef-45e6-b0da-0c87c7fb844d",
   "metadata": {
    "tags": []
   },
   "outputs": [],
   "source": [
    "B.reset_index()"
   ]
  },
  {
   "cell_type": "code",
   "execution_count": null,
   "id": "94d55421-db9d-4fb1-969e-a9c6842f0d37",
   "metadata": {
    "tags": []
   },
   "outputs": [],
   "source": [
    "B['repetições'].sum()"
   ]
  },
  {
   "cell_type": "code",
   "execution_count": null,
   "id": "3bd21698-ba61-4eca-b349-185732832f9b",
   "metadata": {
    "tags": []
   },
   "outputs": [],
   "source": [
    "B['repetições'].max()"
   ]
  },
  {
   "cell_type": "code",
   "execution_count": null,
   "id": "2a125349-94aa-475d-9589-d6e670c17ea1",
   "metadata": {},
   "outputs": [],
   "source": [
    "df = A.merge(B, left_on='grid_origem', right_on='grid_destino')\n",
    "\n",
    "df"
   ]
  },
  {
   "cell_type": "markdown",
   "id": "eba3b29a-3e26-4b96-85af-9eaebbec9664",
   "metadata": {},
   "source": [
    "#### Agora, faço o procedimento final:"
   ]
  },
  {
   "cell_type": "code",
   "execution_count": null,
   "id": "8a778ec7-1759-4bbf-a884-21278dded489",
   "metadata": {},
   "outputs": [],
   "source": [
    "df_final=pd.DataFrame()\n",
    "\n",
    "df_final['repetições'] = pontos.groupby(['grid_origem','grid_destino']).size().reset_index().groupby(['grid_origem','grid_destino']).sum()\n",
    "\n",
    "df_final.shape"
   ]
  },
  {
   "cell_type": "code",
   "execution_count": null,
   "id": "a7dc6cfb-c6d8-4b5d-8109-73ba2b98e68e",
   "metadata": {},
   "outputs": [],
   "source": [
    "df_final = df_final.reset_index()"
   ]
  },
  {
   "cell_type": "code",
   "execution_count": null,
   "id": "b7764efd-7780-46d2-85b8-c0047fb9fcad",
   "metadata": {},
   "outputs": [],
   "source": [
    "df_final"
   ]
  },
  {
   "cell_type": "code",
   "execution_count": null,
   "id": "226410ae-cfcc-495e-a86f-517d0fc9d45d",
   "metadata": {},
   "outputs": [],
   "source": [
    "df_final['repetições'].sum()"
   ]
  },
  {
   "cell_type": "code",
   "execution_count": null,
   "id": "2856faf0-10a6-4113-a1e9-4c9e027919a3",
   "metadata": {},
   "outputs": [],
   "source": [
    "df_final['repetições'].nlargest(15)"
   ]
  },
  {
   "cell_type": "markdown",
   "id": "8965d39c-2afe-4c31-aef4-f4b8402d5035",
   "metadata": {},
   "source": [
    "## FONTE ORIGINAL DOS GRIDS, ANTES DAS TRANSFORMAÇÕES: https://data.humdata.org/dataset/hotosm_usa_michigan_populated_places "
   ]
  }
 ],
 "metadata": {
  "kernelspec": {
   "display_name": "Python 3 (ipykernel)",
   "language": "python",
   "name": "python3"
  },
  "language_info": {
   "codemirror_mode": {
    "name": "ipython",
    "version": 3
   },
   "file_extension": ".py",
   "mimetype": "text/x-python",
   "name": "python",
   "nbconvert_exporter": "python",
   "pygments_lexer": "ipython3",
   "version": "3.10.9"
  },
  "widgets": {
   "application/vnd.jupyter.widget-state+json": {
    "state": {},
    "version_major": 2,
    "version_minor": 0
   }
  }
 },
 "nbformat": 4,
 "nbformat_minor": 5
}
